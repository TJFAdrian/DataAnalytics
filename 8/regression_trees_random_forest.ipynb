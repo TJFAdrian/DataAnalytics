{
 "cells": [
  {
   "cell_type": "markdown",
   "id": "f40d2887",
   "metadata": {},
   "source": [
    "# Regression Trees & Random Forest Regression"
   ]
  },
  {
   "cell_type": "markdown",
   "id": "1b71a018",
   "metadata": {},
   "source": [
    "## Libraries and settings"
   ]
  },
  {
   "cell_type": "code",
   "execution_count": 1,
   "id": "66dc5534",
   "metadata": {},
   "outputs": [
    {
     "name": "stdout",
     "output_type": "stream",
     "text": [
      "U:\\Lektionen\\DA_HS2022\\KK\\Week_08\n"
     ]
    }
   ],
   "source": [
    "# Libraries\n",
    "import os\n",
    "import numpy as np\n",
    "import pandas as pd\n",
    "from sklearn import tree\n",
    "import matplotlib.pyplot as plt\n",
    "from sklearn.metrics import r2_score\n",
    "from sklearn.datasets import make_regression\n",
    "from sklearn.tree import DecisionTreeRegressor\n",
    "from sklearn.ensemble import RandomForestRegressor\n",
    "from sklearn.model_selection import train_test_split\n",
    "\n",
    "# Ignore warnings\n",
    "import warnings\n",
    "warnings.filterwarnings('ignore')\n",
    "\n",
    "# Show current working directory\n",
    "print(os.getcwd())"
   ]
  },
  {
   "cell_type": "markdown",
   "id": "d9c0ced7",
   "metadata": {},
   "source": [
    "## Import the apartment data"
   ]
  },
  {
   "cell_type": "code",
   "execution_count": 2,
   "id": "0abc23fc",
   "metadata": {},
   "outputs": [
    {
     "name": "stdout",
     "output_type": "stream",
     "text": [
      "(804, 17)\n"
     ]
    },
    {
     "data": {
      "text/html": [
       "<div>\n",
       "<style scoped>\n",
       "    .dataframe tbody tr th:only-of-type {\n",
       "        vertical-align: middle;\n",
       "    }\n",
       "\n",
       "    .dataframe tbody tr th {\n",
       "        vertical-align: top;\n",
       "    }\n",
       "\n",
       "    .dataframe thead th {\n",
       "        text-align: right;\n",
       "    }\n",
       "</style>\n",
       "<table border=\"1\" class=\"dataframe\">\n",
       "  <thead>\n",
       "    <tr style=\"text-align: right;\">\n",
       "      <th></th>\n",
       "      <th>id</th>\n",
       "      <th>address_raw</th>\n",
       "      <th>rooms</th>\n",
       "      <th>area</th>\n",
       "      <th>luxurious</th>\n",
       "      <th>price</th>\n",
       "      <th>price_per_m2</th>\n",
       "      <th>lat</th>\n",
       "      <th>lon</th>\n",
       "      <th>bfs_number</th>\n",
       "      <th>bfs_name</th>\n",
       "      <th>pop</th>\n",
       "      <th>pop_dens</th>\n",
       "      <th>frg_pct</th>\n",
       "      <th>emp</th>\n",
       "      <th>tax_income</th>\n",
       "      <th>dist_supermarket</th>\n",
       "    </tr>\n",
       "  </thead>\n",
       "  <tbody>\n",
       "    <tr>\n",
       "      <th>0</th>\n",
       "      <td>1662023695-433</td>\n",
       "      <td>Sunnenbergstrasse 15, 8633 Wolfhausen, ZH</td>\n",
       "      <td>3.5</td>\n",
       "      <td>122</td>\n",
       "      <td>1</td>\n",
       "      <td>3180</td>\n",
       "      <td>26.07</td>\n",
       "      <td>47.255714</td>\n",
       "      <td>8.804976</td>\n",
       "      <td>112</td>\n",
       "      <td>Bubikon</td>\n",
       "      <td>7344</td>\n",
       "      <td>632.558140</td>\n",
       "      <td>11.410675</td>\n",
       "      <td>3617.0</td>\n",
       "      <td>79385.90434</td>\n",
       "      <td>317.117916</td>\n",
       "    </tr>\n",
       "    <tr>\n",
       "      <th>1</th>\n",
       "      <td>1662023720-634</td>\n",
       "      <td>Blumenbergstrasse 7, 8633 Wolfhausen, ZH</td>\n",
       "      <td>4.0</td>\n",
       "      <td>87</td>\n",
       "      <td>0</td>\n",
       "      <td>1690</td>\n",
       "      <td>19.43</td>\n",
       "      <td>47.254879</td>\n",
       "      <td>8.793746</td>\n",
       "      <td>112</td>\n",
       "      <td>Bubikon</td>\n",
       "      <td>7344</td>\n",
       "      <td>632.558140</td>\n",
       "      <td>11.410675</td>\n",
       "      <td>3617.0</td>\n",
       "      <td>79385.90434</td>\n",
       "      <td>612.612674</td>\n",
       "    </tr>\n",
       "    <tr>\n",
       "      <th>2</th>\n",
       "      <td>1662023745-834</td>\n",
       "      <td>8608 Bubikon, ZH</td>\n",
       "      <td>3.5</td>\n",
       "      <td>92</td>\n",
       "      <td>0</td>\n",
       "      <td>2350</td>\n",
       "      <td>25.54</td>\n",
       "      <td>47.277386</td>\n",
       "      <td>8.800306</td>\n",
       "      <td>112</td>\n",
       "      <td>Bubikon</td>\n",
       "      <td>7344</td>\n",
       "      <td>632.558140</td>\n",
       "      <td>11.410675</td>\n",
       "      <td>3617.0</td>\n",
       "      <td>79385.90434</td>\n",
       "      <td>2269.090923</td>\n",
       "    </tr>\n",
       "    <tr>\n",
       "      <th>3</th>\n",
       "      <td>1662023701-503</td>\n",
       "      <td>8608 Bubikon, ZH</td>\n",
       "      <td>3.5</td>\n",
       "      <td>130</td>\n",
       "      <td>0</td>\n",
       "      <td>2500</td>\n",
       "      <td>19.23</td>\n",
       "      <td>47.277386</td>\n",
       "      <td>8.800306</td>\n",
       "      <td>112</td>\n",
       "      <td>Bubikon</td>\n",
       "      <td>7344</td>\n",
       "      <td>632.558140</td>\n",
       "      <td>11.410675</td>\n",
       "      <td>3617.0</td>\n",
       "      <td>79385.90434</td>\n",
       "      <td>2269.090923</td>\n",
       "    </tr>\n",
       "    <tr>\n",
       "      <th>4</th>\n",
       "      <td>1662023745-820</td>\n",
       "      <td>Lavaterstr. 63, 8002 Zürich, ZH</td>\n",
       "      <td>2.5</td>\n",
       "      <td>78</td>\n",
       "      <td>0</td>\n",
       "      <td>3760</td>\n",
       "      <td>48.21</td>\n",
       "      <td>47.361378</td>\n",
       "      <td>8.533339</td>\n",
       "      <td>261</td>\n",
       "      <td>Zürich</td>\n",
       "      <td>420217</td>\n",
       "      <td>4778.994655</td>\n",
       "      <td>32.458468</td>\n",
       "      <td>491193.0</td>\n",
       "      <td>82932.73770</td>\n",
       "      <td>349.937421</td>\n",
       "    </tr>\n",
       "  </tbody>\n",
       "</table>\n",
       "</div>"
      ],
      "text/plain": [
       "               id                                address_raw  rooms  area  \\\n",
       "0  1662023695-433  Sunnenbergstrasse 15, 8633 Wolfhausen, ZH    3.5   122   \n",
       "1  1662023720-634   Blumenbergstrasse 7, 8633 Wolfhausen, ZH    4.0    87   \n",
       "2  1662023745-834                           8608 Bubikon, ZH    3.5    92   \n",
       "3  1662023701-503                           8608 Bubikon, ZH    3.5   130   \n",
       "4  1662023745-820            Lavaterstr. 63, 8002 Zürich, ZH    2.5    78   \n",
       "\n",
       "   luxurious  price  price_per_m2        lat       lon  bfs_number bfs_name  \\\n",
       "0          1   3180         26.07  47.255714  8.804976         112  Bubikon   \n",
       "1          0   1690         19.43  47.254879  8.793746         112  Bubikon   \n",
       "2          0   2350         25.54  47.277386  8.800306         112  Bubikon   \n",
       "3          0   2500         19.23  47.277386  8.800306         112  Bubikon   \n",
       "4          0   3760         48.21  47.361378  8.533339         261   Zürich   \n",
       "\n",
       "      pop     pop_dens    frg_pct       emp   tax_income  dist_supermarket  \n",
       "0    7344   632.558140  11.410675    3617.0  79385.90434        317.117916  \n",
       "1    7344   632.558140  11.410675    3617.0  79385.90434        612.612674  \n",
       "2    7344   632.558140  11.410675    3617.0  79385.90434       2269.090923  \n",
       "3    7344   632.558140  11.410675    3617.0  79385.90434       2269.090923  \n",
       "4  420217  4778.994655  32.458468  491193.0  82932.73770        349.937421  "
      ]
     },
     "execution_count": 2,
     "metadata": {},
     "output_type": "execute_result"
    }
   ],
   "source": [
    "# Define columns for import\n",
    "columns = [ 'web-scraper-order',\n",
    "            'address_raw',\n",
    "            'rooms',\n",
    "            'area',\n",
    "            'luxurious',\n",
    "            'price',\n",
    "            'price_per_m2',\n",
    "            'lat',\n",
    "            'lon',\n",
    "            'bfs_number',\n",
    "            'bfs_name',\n",
    "            'pop',\n",
    "            'pop_dens',\n",
    "            'frg_pct',\n",
    "            'emp',\n",
    "            'tax_income',\n",
    "            'dist_supermarket']\n",
    "\n",
    "# Read and select variables\n",
    "df_orig = pd.read_csv(\"apartments_data_enriched.csv\", sep=\";\", encoding='utf-8')[columns]\n",
    "\n",
    "# Rename variable 'web-scraper-order' to 'apmt_id'\n",
    "df_orig = df_orig.rename(columns={'web-scraper-order': 'id'})\n",
    "\n",
    "# Remove missing values\n",
    "df = df_orig.dropna()\n",
    "df.head(5)\n",
    "\n",
    "# Remove duplicates\n",
    "df = df.drop_duplicates()\n",
    "\n",
    "# Remove some 'extreme' values\n",
    "df = df.loc[(df['price'] >= 1000) & \n",
    "            (df['price'] <= 5000)]\n",
    "\n",
    "# Reset index\n",
    "df = df.reset_index(drop=True)\n",
    "\n",
    "print(df.shape)\n",
    "df.head(5)"
   ]
  },
  {
   "cell_type": "markdown",
   "id": "912a7cad",
   "metadata": {},
   "source": [
    "## Regression Tree\n",
    "See also: https://data36.com/regression-tree-python-scikit-learn"
   ]
  },
  {
   "cell_type": "markdown",
   "id": "82198a19",
   "metadata": {},
   "source": [
    "### Create train and test samples for the regression tree (train = 80%, test = 20% of the data)"
   ]
  },
  {
   "cell_type": "code",
   "execution_count": 3,
   "id": "6d76a5cc",
   "metadata": {},
   "outputs": [
    {
     "name": "stdout",
     "output_type": "stream",
     "text": [
      "X_train:\n",
      "     area  rooms     pop_dens   tax_income  dist_supermarket\n",
      "344    75    3.5  1662.597326  70118.99692        595.010106\n",
      "350    90    3.5  1662.597326  70118.99692        157.537439\n",
      "443   100    3.5  1327.635328  80595.52826        147.967057\n",
      "331    94    3.5  1662.597326  70118.99692         52.959836\n",
      "290    94    3.5  1662.597326  70118.99692         65.909235 \n",
      "\n",
      "y_train:\n",
      "344    1840\n",
      "350    1570\n",
      "443    1941\n",
      "331    2480\n",
      "290    2800\n",
      "Name: price, dtype: int64\n"
     ]
    }
   ],
   "source": [
    "# Create train and test samples\n",
    "X_train, X_test, y_train, y_test = train_test_split(df[['area', \n",
    "                                                        'rooms',\n",
    "                                                        'pop_dens',\n",
    "                                                        'tax_income',\n",
    "                                                        'dist_supermarket']], \n",
    "                                                        df['price'], \n",
    "                                                        test_size=0.20, \n",
    "                                                        random_state=42)\n",
    "\n",
    "# Show X_train\n",
    "print('X_train:')\n",
    "print(X_train.head(), '\\n')\n",
    "\n",
    "# Show y_train\n",
    "print('y_train:')\n",
    "print(y_train.head())"
   ]
  },
  {
   "cell_type": "markdown",
   "id": "93f65098",
   "metadata": {},
   "source": [
    "### Fit the regression tree model"
   ]
  },
  {
   "cell_type": "code",
   "execution_count": 4,
   "id": "23141c86",
   "metadata": {},
   "outputs": [],
   "source": [
    "# Create decision tree regressor object\n",
    "reg = DecisionTreeRegressor(random_state=20, max_depth=3)\n",
    "\n",
    "# Train decision tree regressor\n",
    "reg = reg.fit(X_train, y_train)\n",
    "\n",
    "# Predict the response for test dataset\n",
    "y_pred = reg.predict(X_test)"
   ]
  },
  {
   "cell_type": "markdown",
   "id": "a104a81a",
   "metadata": {},
   "source": [
    "### Calculate coefficient of determination (R-squared)"
   ]
  },
  {
   "cell_type": "code",
   "execution_count": 5,
   "id": "2214835a",
   "metadata": {},
   "outputs": [
    {
     "name": "stdout",
     "output_type": "stream",
     "text": [
      "R-squared: 0.4489\n"
     ]
    }
   ],
   "source": [
    "# Calculate coefficient of determination\n",
    "print('R-squared:', r2_score(y_test, y_pred).round(4))"
   ]
  },
  {
   "cell_type": "markdown",
   "id": "2241dece",
   "metadata": {},
   "source": [
    "### Print text representation of the regression tree"
   ]
  },
  {
   "cell_type": "code",
   "execution_count": 6,
   "id": "0df6062b",
   "metadata": {},
   "outputs": [
    {
     "name": "stdout",
     "output_type": "stream",
     "text": [
      "|--- area <= 93.50\n",
      "|   |--- pop_dens <= 4269.10\n",
      "|   |   |--- area <= 69.50\n",
      "|   |   |   |--- value: [1567.00]\n",
      "|   |   |--- area >  69.50\n",
      "|   |   |   |--- value: [1951.30]\n",
      "|   |--- pop_dens >  4269.10\n",
      "|   |   |--- area <= 68.50\n",
      "|   |   |   |--- value: [2190.78]\n",
      "|   |   |--- area >  68.50\n",
      "|   |   |   |--- value: [3047.45]\n",
      "|--- area >  93.50\n",
      "|   |--- pop_dens <= 3052.31\n",
      "|   |   |--- area <= 120.50\n",
      "|   |   |   |--- value: [2281.06]\n",
      "|   |   |--- area >  120.50\n",
      "|   |   |   |--- value: [3022.04]\n",
      "|   |--- pop_dens >  3052.31\n",
      "|   |   |--- rooms <= 2.00\n",
      "|   |   |   |--- value: [2373.33]\n",
      "|   |   |--- rooms >  2.00\n",
      "|   |   |   |--- value: [3511.49]\n",
      "\n"
     ]
    }
   ],
   "source": [
    "# Text representation of the regression tree\n",
    "text_representation = tree.export_text(reg, \n",
    "                                       feature_names=list(X_train.columns))\n",
    "\n",
    "# Print text_representation\n",
    "print(text_representation)"
   ]
  },
  {
   "cell_type": "markdown",
   "id": "afec49c6",
   "metadata": {},
   "source": [
    "### Vizualizing the regression tree"
   ]
  },
  {
   "cell_type": "code",
   "execution_count": 7,
   "id": "e9267117",
   "metadata": {},
   "outputs": [
    {
     "data": {
      "image/png": "[encoded data removed]",
      "text/plain": [
       "<Figure size 1000x1000 with 1 Axes>"
      ]
     },
     "metadata": {},
     "output_type": "display_data"
    }
   ],
   "source": [
    "fig = plt.figure(figsize=(10,10))\n",
    "_ = tree.plot_tree(reg, \n",
    "                   feature_names=list(X_train.columns),  \n",
    "                   class_names=['price'],\n",
    "                   filled=True,\n",
    "                   fontsize=4.5,\n",
    "                   rounded=True)"
   ]
  },
  {
   "cell_type": "markdown",
   "id": "60d6ed7c",
   "metadata": {},
   "source": [
    "## Random Forest Regression\n",
    "For details see: https://scikit-learn.org/stable/modules/generated/sklearn.ensemble.RandomForestRegressor.html"
   ]
  },
  {
   "cell_type": "markdown",
   "id": "545f9034",
   "metadata": {},
   "source": [
    "### Create train and test samples for the random forest (train = 80%, test = 20% of the data)"
   ]
  },
  {
   "cell_type": "code",
   "execution_count": 8,
   "id": "d0ffb139",
   "metadata": {},
   "outputs": [
    {
     "name": "stdout",
     "output_type": "stream",
     "text": [
      "X2_train:\n",
      "     area  rooms     pop_dens   tax_income  dist_supermarket\n",
      "344    75    3.5  1662.597326  70118.99692        595.010106\n",
      "350    90    3.5  1662.597326  70118.99692        157.537439\n",
      "443   100    3.5  1327.635328  80595.52826        147.967057\n",
      "331    94    3.5  1662.597326  70118.99692         52.959836\n",
      "290    94    3.5  1662.597326  70118.99692         65.909235 \n",
      "\n",
      "y2_train:\n",
      "344    1840\n",
      "350    1570\n",
      "443    1941\n",
      "331    2480\n",
      "290    2800\n",
      "Name: price, dtype: int64\n"
     ]
    }
   ],
   "source": [
    "# Create train and test samples (the names X2_ and y2_ were used because X_ and y_ were already used above)\n",
    "X2_train, X2_test, y2_train, y2_test = train_test_split(df[['area', \n",
    "                                                            'rooms',\n",
    "                                                            'pop_dens',\n",
    "                                                            'tax_income',\n",
    "                                                            'dist_supermarket']], \n",
    "                                                            df['price'], \n",
    "                                                            test_size=0.20, \n",
    "                                                            random_state=42)\n",
    "\n",
    "# Show X2_train\n",
    "print('X2_train:')\n",
    "print(X2_train.head(), '\\n')\n",
    "\n",
    "# Show y2_train\n",
    "print('y2_train:')\n",
    "print(y2_train.head())"
   ]
  },
  {
   "cell_type": "markdown",
   "id": "f565dc23",
   "metadata": {},
   "source": [
    "### Fit the Random Forest Regression"
   ]
  },
  {
   "cell_type": "code",
   "execution_count": 9,
   "id": "6eb896c2",
   "metadata": {},
   "outputs": [
    {
     "name": "stdout",
     "output_type": "stream",
     "text": [
      "R-squared: 0.5936\n"
     ]
    }
   ],
   "source": [
    "X, y = make_regression(n_features=4, n_informative=2,\n",
    "                       random_state=5, shuffle=False)\n",
    "\n",
    "\n",
    "reg_rf = RandomForestRegressor(n_estimators=500, \n",
    "                               max_depth=10, \n",
    "                               random_state=5)\n",
    "reg_rf.fit(X2_train, y2_train)\n",
    "\n",
    "# Calculate coefficient of determination (R-squared)\n",
    "print('R-squared:', reg_rf.score(X2_test, y2_test).round(4))"
   ]
  },
  {
   "cell_type": "markdown",
   "id": "888014a9",
   "metadata": {},
   "source": [
    "### Show feature importance"
   ]
  },
  {
   "cell_type": "code",
   "execution_count": 10,
   "id": "b51f4d42",
   "metadata": {},
   "outputs": [
    {
     "name": "stdout",
     "output_type": "stream",
     "text": [
      "Index(['area', 'pop_dens', 'dist_supermarket', 'rooms', 'tax_income'], dtype='object')\n",
      "[0.49747017 0.25149778 0.14570629 0.07085025 0.03447552]\n"
     ]
    },
    {
     "data": {
      "text/plain": [
       "<AxesSubplot: ylabel='features'>"
      ]
     },
     "execution_count": 10,
     "metadata": {},
     "output_type": "execute_result"
    },
    {
     "data": {
      "image/png": "[encoded data removed]",
      "text/plain": [
       "<Figure size 600x300 with 1 Axes>"
      ]
     },
     "metadata": {},
     "output_type": "display_data"
    }
   ],
   "source": [
    "cols = X2_train.columns\n",
    "\n",
    "# Derive feature importance from random forest\n",
    "importances = reg_rf.feature_importances_\n",
    "std         = np.std([tree.feature_importances_ for tree in reg_rf.estimators_], axis=0)\n",
    "indices     = np.argsort(importances)[::-1]\n",
    "\n",
    "# Print col-names and importances-values\n",
    "print( cols[indices] )\n",
    "print( importances[indices] )\n",
    "\n",
    "# Barplot with feature importance\n",
    "df_fi = pd.DataFrame({'features':cols,'importances': importances})\n",
    "df_fi.sort_values('importances', inplace=True)\n",
    "df_fi.plot(kind='barh', \n",
    "           y='importances', \n",
    "           x='features', \n",
    "           color='darkred', \n",
    "           figsize=(6,3))"
   ]
  }
 ],
 "metadata": {
  "kernelspec": {
   "display_name": "Python 3 (ipykernel)",
   "language": "python",
   "name": "python3"
  },
  "language_info": {
   "codemirror_mode": {
    "name": "ipython",
    "version": 3
   },
   "file_extension": ".py",
   "mimetype": "text/x-python",
   "name": "python",
   "nbconvert_exporter": "python",
   "pygments_lexer": "ipython3",
   "version": "3.9.13"
  }
 },
 "nbformat": 4,
 "nbformat_minor": 5
}
